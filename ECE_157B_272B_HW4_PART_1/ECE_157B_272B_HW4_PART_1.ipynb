{
  "nbformat": 4,
  "nbformat_minor": 0,
  "metadata": {
    "colab": {
      "name": "ECE_157B_272B_HW4_PART_1.ipynb",
      "provenance": [],
      "collapsed_sections": []
    },
    "kernelspec": {
      "name": "python3",
      "display_name": "Python 3"
    },
    "accelerator": "GPU"
  },
  "cells": [
    {
      "cell_type": "markdown",
      "metadata": {
        "id": "ilb6lxPFxvgh"
      },
      "source": [
        "# 272B Homework 4 Template\n",
        "---\n",
        "## PART 1\n",
        "---"
      ]
    },
    {
      "cell_type": "markdown",
      "source": [
        "## Imports, Constants, and Dataset loading"
      ],
      "metadata": {
        "id": "DcAuvXXkm9qM"
      }
    },
    {
      "cell_type": "code",
      "metadata": {
        "id": "W1t7PEODnL_c"
      },
      "source": [
        "# TensorFlow Imports\n",
        "from tensorflow.keras import layers, models, losses, callbacks, utils, preprocessing, regularizers\n",
        "from tensorflow.keras.layers.experimental.preprocessing import TextVectorization\n",
        "from tensorflow.math import confusion_matrix\n",
        "from tensorflow.data import Dataset\n",
        "from tensorflow.strings import lower, regex_replace\n",
        "import tensorflow as tf\n",
        "import os\n",
        "import matplotlib.pyplot as plt"
      ],
      "execution_count": 35,
      "outputs": []
    },
    {
      "cell_type": "markdown",
      "metadata": {
        "id": "LUnv2Lf2od7j"
      },
      "source": [
        "### Parameters and Helper Functions"
      ]
    },
    {
      "cell_type": "code",
      "metadata": {
        "id": "atDL5XLQ23uH"
      },
      "source": [
        "# TODO: Set parameters you want for part 1 (or hard code later, this might be easier)\n",
        "# You could also add any generic helper functions you want\n",
        "\n",
        "random_seed = 42\n",
        "tf.random.set_seed(random_seed)\n",
        "\n",
        "# For data\n",
        "validation_split = 0.25\n",
        "batch_size = 32\n",
        "epochs = 10\n",
        "label_mode = 'int' # check https://www.tensorflow.org/api_docs/python/tf/keras/preprocessing/text_dataset_from_directory\n",
        "\n",
        "# For TextVectorization\n",
        "vocab_size = 10000\n",
        "max_text_length = 250"
      ],
      "execution_count": 36,
      "outputs": []
    },
    {
      "cell_type": "markdown",
      "metadata": {
        "id": "4dlbXxC2__We"
      },
      "source": [
        "### Problem (1) Load the dataset and explain the path structure of the loaded data\n",
        "a) Download the Stack Overflow dataset to a directory of your choice (Code) and \n",
        ">\n",
        "b) Inspect the folder content. \"Inspect\" means go the left-hand side and open the file browser of the Collab environment until you can find the data. What is the path structure (as in, what subfolders exist in the directory you made)? \n",
        "\n",
        "/content/hw4/\n",
        "\n",
        ".....................models/\n",
        "\n",
        ".......................test/\n",
        "\n",
        "......................train/\n",
        "\n",
        "...................README.md\n",
        "\n",
        "...stack_overflow_16k.tar.gz\n"
      ]
    },
    {
      "cell_type": "code",
      "metadata": {
        "id": "Tpxf2YBYTK4-"
      },
      "source": [
        "data_url = \"https://storage.googleapis.com/download.tensorflow.org/data/stack_overflow_16k.tar.gz\"\n",
        "data_dir = '/content/hw4'\n",
        "data_cache = utils.get_file(\n",
        "    'stack_overflow_16k.tar.gz',\n",
        "    data_url,\n",
        "    untar = True,\n",
        "    cache_dir = '',\n",
        "    cache_subdir = data_dir # specify download directory\n",
        ")"
      ],
      "execution_count": 37,
      "outputs": []
    },
    {
      "cell_type": "markdown",
      "source": [
        "### Problem (2) Split into train, test, validation\n",
        "a) Explain how `preprocessing.text_dataset_from_directory` finds labels for the samples.\n",
        "> Calling this function will return batches of texts from the subdirectories under the main directory. In this case the main directory will be `/content/hw4/test` and the subdirectories will be `csharp`, `java`, `javascript`, and `python`.\n",
        "\n",
        "b) What is the options and purpose of the input variable `label_mode`?\n",
        "\n",
        "*   `int`: labels are encoded as integers\n",
        "*   `categorical`: labels are encoded as an categorical vector\n",
        "*   `binary`: labels are encoded as `float32` scalars with values of 0 or 1\n",
        "*   None: no labels\n",
        "\n",
        "> The different types of labels are meant for calculations of different loss functions (e.g., `sparse_categorical_crossentropy`, `categorical_crossentropy`, `binary_crossentropy`, etc.)\n",
        "\n",
        "\n",
        "\n",
        "\n",
        "\n",
        "\n",
        "c) Perform the split. (Code)"
      ],
      "metadata": {
        "id": "YqM2bYmgpM5K"
      }
    },
    {
      "cell_type": "code",
      "metadata": {
        "id": "0Ds8jKu8qyFy",
        "colab": {
          "base_uri": "https://localhost:8080/"
        },
        "outputId": "5a097f7d-1730-4bbc-bf05-61fd271d4ba0"
      },
      "source": [
        "# TODO : Add necessary arguments to complete the train-validation-test split\n",
        "\n",
        "# By putting arguments in here, we can share them across calls using **kwargs ('keyword arguments')\n",
        "# We know batch_size, label mode, and random seed (for reproducability) will be consistant\n",
        "dataset_args = dict(\n",
        "    seed= random_seed,\n",
        "    batch_size= batch_size,\n",
        "    label_mode= label_mode,\n",
        ")\n",
        "\n",
        "data_train = preprocessing.text_dataset_from_directory(\n",
        "    directory = data_dir + '/train',\n",
        "    validation_split = validation_split,\n",
        "    subset = 'training', \n",
        "    **dataset_args\n",
        ")\n",
        "\n",
        "data_validation = preprocessing.text_dataset_from_directory(\n",
        "    directory = data_dir + '/train',\n",
        "    validation_split = validation_split,\n",
        "    subset = 'validation', \n",
        "    **dataset_args\n",
        ")\n",
        "\n",
        "data_test = preprocessing.text_dataset_from_directory(\n",
        "    directory = data_dir + '/test', \n",
        "    **dataset_args\n",
        ")\n",
        "\n",
        "print(f\"Number of batches in data_train: {data_train.cardinality()}\")\n",
        "print(f\"Number of batches in data_validation: {data_validation.cardinality()}\")\n",
        "print(f\"Number of batches in data_test: {data_test.cardinality()}\")"
      ],
      "execution_count": 38,
      "outputs": [
        {
          "output_type": "stream",
          "name": "stdout",
          "text": [
            "Found 8000 files belonging to 4 classes.\n",
            "Using 6000 files for training.\n",
            "Found 8000 files belonging to 4 classes.\n",
            "Using 2000 files for validation.\n",
            "Found 8000 files belonging to 4 classes.\n",
            "Number of batches in data_train: 188\n",
            "Number of batches in data_validation: 63\n",
            "Number of batches in data_test: 250\n"
          ]
        }
      ]
    },
    {
      "cell_type": "markdown",
      "source": [
        "## Main assignment"
      ],
      "metadata": {
        "id": "0_AOC5tBuv81"
      }
    },
    {
      "cell_type": "markdown",
      "source": [
        "### Problem (3) Text standardization\n",
        "(a) Write a standardization function so that all text input to the model is consistent. The standardization is up to you, but a common starting point is to lowercase all words. (Code)\n",
        "\n",
        "(b) EXPLAIN your chosen standardization. Why do you think your choices will help for a dataset from StackOverflow?\n",
        "> I tried the default setting: `'lower_and_strip_punctuation'` for the argument `standardize` of the function `tf.keras.layers.TextVectorization`. What the argument does is to lowercase all the letters and remove all the punctuations in the string. Since I don't exactly know what kind of formats is the data provided with, it will be optimal to start with the fundamentals instead of filtering out too much key information.\n",
        "\n",
        "(c) Train your TextVectorization layer on the training dataset with a max vocabulary size of 10,000 and output sequence length of 250. Make sure to use your standardization function! (Code)\n",
        "\n",
        "(d) Describe the preprocessing step of the raw sentence data and the label. How did you decide how to standardize the text? (Hint: how does TextVectorization work?)\n",
        "> First, we simplify the provided text data (e.g., remove puntuations, remove HTML elements, convert all letters to lowercase, etc.). Then, we tokenize the simplified texts, which is splitting the strings into individual words. Lastly, we convert the tokens into numbers, which will result in a vector that can be fed into theneurla network model for training."
      ],
      "metadata": {
        "id": "UJYxqZjhqcDa"
      }
    },
    {
      "cell_type": "code",
      "source": [
        "# Standardization for strings input to model\n",
        "import string\n",
        "import re\n",
        "\n",
        "# TODO write your standardization function\n",
        "# tf.strings module will be helpful\n",
        "# regex (re) module will be helpful\n",
        "def custom_standardization(inputs):\n",
        "    lowercase = lower(inputs)\n",
        "    stripped_html = regex_replace(lowercase, '<br />', ' ')\n",
        "\n",
        "    return regex_replace(stripped_html, f\"[{re.escape(string.punctuation)}]\", \"\")\n",
        "\n",
        "# Build the vectorization layer. It takes the parameters you set at the top\n",
        "encoder = TextVectorization(\n",
        "    max_tokens = vocab_size, # Maximum size of the vocabulary for this layer\n",
        "    output_sequence_length = max_text_length, # The output will have its time dimension padded or truncated to exactly output_sequence_length values\n",
        "    standardize = 'lower_and_strip_punctuation', # Text will be lowercased and all punctuation removed\n",
        ")\n",
        "\n",
        "# TODO train your TextVectorization layer by \n",
        "# a) making a text only dataset (from train)\n",
        "# b) using adapt()\n",
        "data_train_text_only = data_train.map(lambda x, y: x)\n",
        "encoder.adapt(data_train_text_only) # fit the state of the preprocessing layer to the dataset (only use your training data when calling adapt, using the test set would leak information)"
      ],
      "metadata": {
        "id": "oP10QRmNqcK7"
      },
      "execution_count": 39,
      "outputs": []
    },
    {
      "cell_type": "markdown",
      "source": [
        "### Problem (4) Visualize\n",
        "\n",
        "Print:\n",
        "\n",
        "a)  Show one sentence example from the training dataset (Code). Are you able to tell which tag (python, java, javascript, csharp) this question belongs to?\n",
        "> It belongs to javascript.\n",
        "\n",
        "b) What is the vector encoding for the sentence example you've printed above? (Code)\n",
        "\n",
        "c) The top 10 most common 'tokens' in your dataset (Code)\n",
        "\n",
        "d) The bottom 10 most common 'tokens' in your dataset (Code)\n",
        "\n",
        "e) Do the top 10 and bottom 10 words make sense for our dataset? Explain.\n",
        "> They don't make sense at all. Since the standardization method I've adopted is `lower_and_strip_punctuation`, there still exists meaningless pronouns which do not contribute much to classifying the tags.\n"
      ],
      "metadata": {
        "id": "vsplC_IOrZ0y"
      }
    },
    {
      "cell_type": "code",
      "source": [
        "# A PrettyPrinter() might help printing large vectors\n",
        "import pprint\n",
        "import random\n",
        "import numpy as np\n",
        "\n",
        "pp = pprint.PrettyPrinter()\n",
        "\n",
        "# TODO: extract one question/label pair from the dataset, and display\n",
        "for text_batch, label_batch in data_train.take(1):\n",
        "    text = text_batch.numpy()[0]\n",
        "    label = label_batch.numpy()[0]\n",
        "\n",
        "print(\"QUESTION: \")\n",
        "pp.pprint(text)\n",
        "\n",
        "print(\"\\nLABEL: \")\n",
        "pp.pprint(label)\n",
        "\n",
        "# TODO Vectorize the question from above, and display\n",
        "print(\"\\nQUESTION VECTOR: \")\n",
        "pp.pprint(encoder(text))\n",
        "\n",
        "# TODO Print the top 10 and bottom 10 vocabulary words\n",
        "vocab = np.array(encoder.get_vocabulary())\n",
        "most_common = vocab[:10]\n",
        "least_common = vocab[-10:]\n",
        "\n",
        "print('\\nTOP 10 VOCAB WORDS: ')\n",
        "pp.pprint(most_common)\n",
        "\n",
        "print('\\nBOTTOM 10 VOCAB WORDS: ')\n",
        "pp.pprint(least_common)\n"
      ],
      "metadata": {
        "id": "127QidWqrpn1",
        "colab": {
          "base_uri": "https://localhost:8080/"
        },
        "outputId": "76e7bc30-2d57-4b88-b98f-0043919a5672"
      },
      "execution_count": 40,
      "outputs": [
        {
          "output_type": "stream",
          "name": "stdout",
          "text": [
            "QUESTION: \n",
            "(b'\"blank code not working when displaying value of html element i want to disp'\n",
            " b'lay details in div element(id=\"\"displaystoragevol2\"\"). why below code is not'\n",
            " b' working..&lt;hr&gt;.&lt;h3&gt;localstorage app vol-2&lt;/h3&gt;.&lt;label&g'\n",
            " b't;first name: &lt;/label&gt;&lt;input type=\"\"text\"\" id=\"\"firstnamevol2\"\"&gt;'\n",
            " b'.&lt;label&gt;last name: &lt;/label&gt;&lt;input type=\"\"text\"\" id=\"\"lastname'\n",
            " b'vol2\"\"&gt;.&lt;button type=\"\"submit\"\" id=\"\"fetchdetailsvol2\"\"&gt;submit&lt;/'\n",
            " b'button&gt;.&lt;div id=\"\"displaystoragevol2\"\"&gt;&lt;/div&gt;.&lt;hr&gt;..   '\n",
            " b\" &lt;script&gt;.    /*localstorage vol 2*/.    document.getelementbyid('fetc\"\n",
            " b\"hdetailsvol2').addeventlistener('click', fetchfunction);.    var firstnamevo\"\n",
            " b\"l2 = document.getelementbyid('firstnamevol2').value;.    var lastnamevol2 = \"\n",
            " b\"document.getelementbyid('lastnamevol2').value;.    var displaystoragevol2 = \"\n",
            " b\"document.getelementbyid('displaystoragevol2');...    function fetchfunction(\"\n",
            " b'){               .        displaystoragevol2.innerhtml = firstnamevol2 + las'\n",
            " b'tnamevol2;.    }.&lt;/script&gt;\"\\n')\n",
            "\n",
            "LABEL: \n",
            "2\n",
            "\n",
            "QUESTION VECTOR: \n",
            "<tf.Tensor: shape=(250,), dtype=int64, numpy=\n",
            "array([  16,   30,   20,  156,   44, 1035,   49,    9,  311,  245,    3,\n",
            "         46,    4,  221, 1036,    7,  497,    1,  110,  168,   30,    6,\n",
            "         20,    1,  440,    1,   56, 9042,  477,    1,   56, 9042,  477,\n",
            "          1, 2180,    1,    1,  854, 6173,    1,   58,    1,    1,   42,\n",
            "          1,    1,   42,    1,    1,   42,    1,    1,   37,    1,    1,\n",
            "          1,    1,  854,    0,    0,    0,    0,    0,    0,    0,    0,\n",
            "          0,    0,    0,    0,    0,    0,    0,    0,    0,    0,    0,\n",
            "          0,    0,    0,    0,    0,    0,    0,    0,    0,    0,    0,\n",
            "          0,    0,    0,    0,    0,    0,    0,    0,    0,    0,    0,\n",
            "          0,    0,    0,    0,    0,    0,    0,    0,    0,    0,    0,\n",
            "          0,    0,    0,    0,    0,    0,    0,    0,    0,    0,    0,\n",
            "          0,    0,    0,    0,    0,    0,    0,    0,    0,    0,    0,\n",
            "          0,    0,    0,    0,    0,    0,    0,    0,    0,    0,    0,\n",
            "          0,    0,    0,    0,    0,    0,    0,    0,    0,    0,    0,\n",
            "          0,    0,    0,    0,    0,    0,    0,    0,    0,    0,    0,\n",
            "          0,    0,    0,    0,    0,    0,    0,    0,    0,    0,    0,\n",
            "          0,    0,    0,    0,    0,    0,    0,    0,    0,    0,    0,\n",
            "          0,    0,    0,    0,    0,    0,    0,    0,    0,    0,    0,\n",
            "          0,    0,    0,    0,    0,    0,    0,    0,    0,    0,    0,\n",
            "          0,    0,    0,    0,    0,    0,    0,    0,    0,    0,    0,\n",
            "          0,    0,    0,    0,    0,    0,    0,    0,    0,    0,    0,\n",
            "          0,    0,    0,    0,    0,    0,    0,    0,    0,    0,    0,\n",
            "          0,    0,    0,    0,    0,    0,    0,    0])>\n",
            "\n",
            "TOP 10 VOCAB WORDS: \n",
            "array(['', '[UNK]', 'the', 'i', 'to', 'a', 'is', 'in', 'and', 'of'],\n",
            "      dtype='<U83')\n",
            "\n",
            "BOTTOM 10 VOCAB WORDS: \n",
            "array(['amber2xtcpy', 'altgtltligt', 'alphaexp', 'allot', 'allfiles',\n",
            "       'alistpos', 'alignment', 'aligncentergt', 'aliases', 'alerttable'],\n",
            "      dtype='<U83')\n"
          ]
        }
      ]
    },
    {
      "cell_type": "markdown",
      "metadata": {
        "id": "NuVrjLJ2_rew"
      },
      "source": [
        "\n",
        "### Problem (5) Understanding the LSTM model.\n",
        "\n",
        "a) What's the Keras Embedding Layer for?\n",
        "> The embedding layer plays the role of mapping integer indices (represents specific vocabularies) to dense vectors (embeddings of the integer indices).\n",
        "\n",
        "b) What do `masking` and `padding` mean in this context?\n",
        "\n",
        "\n",
        "*   `masking`: a way to tell sequence-processing layers that certain timesteps in an input are missing and thus should be skipped when processing the data.\n",
        "*   `padding`: a special form of `masking` where the masked steps are at the beginning or the end of a sequence. In order to fit all sequences into the given standard length, padding or truncating some sequences is necessary.\n",
        "\n",
        "\n",
        "\n",
        "c) Describe in your own words why LSTM is called long short-term memories.\n",
        "> LSTM is capable of \"remembering\" **short-term** data over a **long** period of time. It is a particular type of RNN with the mechanism to avoid the vanishing gradient problem.\n",
        "\n",
        "d) What is the difference between Conv1D and LSTM?\n",
        "\n",
        "\n",
        "*   Conv1D: performs 1D convolution over a vector of data. It is mainly used in CNNs.\n",
        "*   LSTM: a neuron unit that feeds information back to itself for the next time step in sequence. It is mainly used in RNNs.\n",
        "\n",
        "\n",
        "\n",
        "e) Create a lone embedding layer and inspect it by feeding it a random input from the (vectorized) dataset. What is the input shape? What is the output shape? (Code)\n",
        "> Input shape: (1, 250, 32), output shape: (1, 16)\n",
        "\n",
        "f) Create a lone Keras LSTM layer and inspect it by feeding it the random output of the embedding layer above.  (Code)\n",
        "> i) What shape of the input does it require? What is the output shape? (Code)\n",
        "\n",
        "> ii) Set `return_sequence` and `return_state` to be True. What is the output shape now? (Code)\n",
        "\n",
        "> iii) Explain the difference between `return_sequence` and `return_states`.\n",
        "\n",
        "\n",
        "*   `return_sequence`: returns all the hidden state values (full sequence) from each timestep\n",
        "*   `return_state`: returns the last cell state ($c^t$) of the RNN in addition its hidden states\n",
        "\n"
      ]
    },
    {
      "cell_type": "code",
      "metadata": {
        "id": "XjkDMKFZb4L7",
        "colab": {
          "base_uri": "https://localhost:8080/"
        },
        "outputId": "2f095839-15c4-4693-fa99-f71260d371e6"
      },
      "source": [
        "# TODO make a lone embedding layer: embed a `vocab_size` word vocabulary in `output_dim` dimensions\n",
        "embedding_sample = layers.Embedding(\n",
        "    input_dim = len(encoder.get_vocabulary()) + 1, # Size of the vocabulary, i.e. maximum integer index + 1\n",
        "    output_dim = 32, # Dimension of the dense embedding\n",
        "    mask_zero = True, # whether or not the input value 0 is a special \"padding\" value that should be masked out\n",
        "    input_length = max_text_length,\n",
        ")\n",
        "\n",
        "# TODO make lone LSTM layers \n",
        "units = 16 # dimensionality of the output space\n",
        "LSTM_sample = layers.LSTM(units)\n",
        "LSTM_sample_sequences = layers.LSTM(units, return_sequences=True)\n",
        "LSTM_sample_state = layers.LSTM(units, return_state=True)\n",
        "LSTM_sample_both = layers.LSTM(units, return_state=True, return_sequences=True)\n",
        "\n",
        "for text_batch, label_batch in data_train.take(1):\n",
        "    # TODO send a random data sample through the embedding layer\n",
        "    text = tf.expand_dims(text_batch[0], 0)\n",
        "    embedded = embedding_sample(encoder(text))\n",
        "    print(\"Embedded: {}\".format(embedded.shape))\n",
        "    # TODO Send the embedded sample through the various LSTM layers and answer the questions above\n",
        "    output1 = LSTM_sample(embedded)\n",
        "    print(\"LSTM_sample: {}\".format(output1.shape))\n",
        "    output2 = LSTM_sample_sequences(embedded)\n",
        "    print(\"LSTM_sample_sequences: {}\".format(output2.shape))\n",
        "    output3 = LSTM_sample_state(embedded)\n",
        "    print(\"LSTM_sample_state: {}\".format(len(output3)))\n",
        "    output4 = LSTM_sample_both(embedded)\n",
        "    print(\"LSTM_sample_both: {}\".format(len(output4)))"
      ],
      "execution_count": 41,
      "outputs": [
        {
          "output_type": "stream",
          "name": "stdout",
          "text": [
            "Embedded: (1, 250, 32)\n",
            "LSTM_sample: (1, 16)\n",
            "LSTM_sample_sequences: (1, 250, 16)\n",
            "LSTM_sample_state: 3\n",
            "LSTM_sample_both: 3\n"
          ]
        }
      ]
    },
    {
      "cell_type": "markdown",
      "metadata": {
        "id": "ZrTZNoDFC8BR"
      },
      "source": [
        "### Problem (6) Building an LSTM model\n",
        "\n",
        "a) Write a function that can construct an LSTM model, starting with an Embedding layer. The variable inputs should include num_lstm_layers, num_dense_layers. Other things you might include are dropout layers or regularizers for LSTM/Dense. Remember to end with a softmax dense layer with 4 neurons for the language classes. USE CHECKPOINTS TO SAVE MODELS BETWEEN EPOCHS (Code)\n",
        "\n",
        "b) Write a function to train your model(s). (Code)\n",
        "\n",
        "c) Start with the basic model with one LSTM layer. Plot the training and validation accuracy versus epochs, and training and validation loss versus epochs. What do you observe? (Code + Text)\n",
        "> The validation accuracy increases in the first few epochs, and then does not have any significant improvement afterwards. The validation loss, on the other hand, increases steadily throughout the epochs. This phenomenon suggests that overfitting has occured since the early stages of training.\n",
        "\n",
        "The prediction for problem 7 is incorrect as well.\n",
        "\n",
        "d) Add several more LSTM layers to your model. How does it affect the training accuracy? Compare to the single layer results. (Code + Text)\n",
        ">I applied 2 layers of LSTM since it is sufficient to detect more complex features according to this [blog](https://towardsdatascience.com/choosing-the-right-hyperparameters-for-a-simple-lstm-using-keras-f8e9ed76f046#:~:text=Generally%2C%202%20layers%20have%20shown,to%20find%20reasonably%20complex%20features.). The results are pretty similar though. The only explicit differences are that the accuracies and losses have less variations and the figures are slightly better (higher accuracy, lower loss) than those of the basic model with one LSTM layer.\n",
        "\n",
        "e) Evaluate both models on the test data, and print your metrics. Include a confusion matrix. Which languages are the most difficult to differentiate? (Code)\n"
      ]
    },
    {
      "cell_type": "code",
      "metadata": {
        "id": "fzNgdqiZ8PB3"
      },
      "source": [
        "# TODO Write a function that builds a full LSTM network.\n",
        "def my_LSTM(vocab_length = vocab_size, name = None):\n",
        "    model = tf.keras.Sequential(name=name)\n",
        "    model.add(\n",
        "        layers.Embedding(\n",
        "            input_dim = vocab_length,\n",
        "            output_dim = 64,\n",
        "            mask_zero = True,\n",
        "            input_length = 250,\n",
        "            name='embedding'\n",
        "        )\n",
        "    )\n",
        "    \n",
        "    model.add(layers.Bidirectional(layers.LSTM(64, return_sequences=True)))\n",
        "    model.add(layers.Bidirectional(layers.LSTM(32)))\n",
        "\n",
        "    model.add(layers.Dense(32))\n",
        "    #model.add(layers.Dropout(0.5))\n",
        "    model.add(layers.Dense(4, activation='softmax')) # 4 classes\n",
        "\n",
        "    return model\n",
        "\n",
        "# Fitting function\n",
        "def fit(model, encoded_data_train, encoded_data_val, epochs=epochs):\n",
        "    \n",
        "    # TODO complete checkpoint to save best model\n",
        "    checkpoint_file = '/content/hw4/models/saved_model_{}.h5'.format(epochs)\n",
        "    checkpoint = callbacks.ModelCheckpoint(\n",
        "        checkpoint_file,\n",
        "        monitor='val_loss',\n",
        "        save_best_only=True,\n",
        "        mode='min', # lowest loss, highest accuracy\n",
        "        save_format='tf'\n",
        "    )\n",
        "    #early_stopping = callbacks.EarlyStopping(monitor='val_loss', patience=2)\n",
        "\n",
        "    # TODO: Compile mode with Sparse Categorical Crossentropy\n",
        "    model.compile(\n",
        "        loss= losses.SparseCategoricalCrossentropy(from_logits=True),\n",
        "        optimizer= tf.keras.optimizers.Adam(),\n",
        "        metrics= ['accuracy']\n",
        "    )\n",
        "    \n",
        "    # TODO: fit to training data (training session)\n",
        "    history = model.fit(\n",
        "        encoded_data_train,\n",
        "        validation_data=encoded_data_val,\n",
        "        epochs=epochs,\n",
        "        callbacks=[checkpoint]\n",
        "    )\n",
        "\n",
        "    # load back from the checkpoint and return the best model with your history\n",
        "    best_model = models.load_model(checkpoint_file)\n",
        "\n",
        "    return best_model, history\n",
        "\n",
        "# TODO Write history plot function\n",
        "def plot_history(history, epochs=epochs):\n",
        "    acc = history['accuracy']\n",
        "    val_acc = history['val_accuracy']\n",
        "    loss = history['loss']\n",
        "    val_loss = history['val_loss']\n",
        "\n",
        "    epochs = range(1, len(acc) + 1)\n",
        "\n",
        "    plt.figure(figsize=(20, 10))\n",
        "\n",
        "    plt.subplot(1, 2, 1)\n",
        "    plt.plot(epochs, acc, 'bo', label='Training Accuracy')\n",
        "    plt.plot(epochs, val_acc, 'b', label='Validation Accuracy')\n",
        "    plt.ylim(None, 1)\n",
        "    plt.title('Training Accuracy and Validation Accuracy')\n",
        "    plt.xlabel('Epochs')\n",
        "    plt.ylabel('Loss')\n",
        "    plt.legend()\n",
        "\n",
        "    plt.subplot(1, 2, 2)\n",
        "    plt.plot(epochs, loss, 'bo', label='Training Loss')\n",
        "    plt.plot(epochs, val_loss, 'b', label='Validation Loss')\n",
        "    plt.ylim(0, None)\n",
        "    plt.title('Training Loss and Validation Loss')\n",
        "    plt.xlabel('Epochs')\n",
        "    plt.ylabel('Loss')\n",
        "    plt.legend()\n",
        "\n",
        "    plt.show()"
      ],
      "execution_count": 42,
      "outputs": []
    },
    {
      "cell_type": "code",
      "source": [
        "# TODO make LSTM models \n",
        "model = my_LSTM(vocab_length=len(encoder.get_vocabulary()), name='myLSTM')\n",
        "print(model.summary())\n",
        "# TODO Train them\n",
        "encoded_train = data_train.map(lambda x, y: (encoder(x), y))\n",
        "encoded_val = data_validation.map(lambda x, y: (encoder(x), y))\n",
        "model, history = fit(model, encoded_train, encoded_val, epochs)"
      ],
      "metadata": {
        "id": "ZGxWLDWYH-45",
        "colab": {
          "base_uri": "https://localhost:8080/"
        },
        "outputId": "93c60f20-a837-4c8f-af9a-ead87efc230b"
      },
      "execution_count": 43,
      "outputs": [
        {
          "output_type": "stream",
          "name": "stdout",
          "text": [
            "Model: \"myLSTM\"\n",
            "_________________________________________________________________\n",
            " Layer (type)                Output Shape              Param #   \n",
            "=================================================================\n",
            " embedding (Embedding)       (None, 250, 64)           640000    \n",
            "                                                                 \n",
            " bidirectional_5 (Bidirectio  (None, 250, 128)         66048     \n",
            " nal)                                                            \n",
            "                                                                 \n",
            " bidirectional_6 (Bidirectio  (None, 64)               41216     \n",
            " nal)                                                            \n",
            "                                                                 \n",
            " dense_6 (Dense)             (None, 32)                2080      \n",
            "                                                                 \n",
            " dropout_1 (Dropout)         (None, 32)                0         \n",
            "                                                                 \n",
            " dense_7 (Dense)             (None, 4)                 132       \n",
            "                                                                 \n",
            "=================================================================\n",
            "Total params: 749,476\n",
            "Trainable params: 749,476\n",
            "Non-trainable params: 0\n",
            "_________________________________________________________________\n",
            "None\n",
            "Epoch 1/10\n"
          ]
        },
        {
          "output_type": "stream",
          "name": "stderr",
          "text": [
            "/usr/local/lib/python3.7/dist-packages/tensorflow/python/util/dispatch.py:1082: UserWarning: \"`sparse_categorical_crossentropy` received `from_logits=True`, but the `output` argument was produced by a sigmoid or softmax activation and thus does not represent logits. Was this intended?\"\n",
            "  return dispatch_target(*args, **kwargs)\n"
          ]
        },
        {
          "output_type": "stream",
          "name": "stdout",
          "text": [
            "188/188 [==============================] - 68s 263ms/step - loss: 1.1267 - accuracy: 0.4743 - val_loss: 0.7935 - val_accuracy: 0.6445\n",
            "Epoch 2/10\n",
            "188/188 [==============================] - 43s 231ms/step - loss: 0.6896 - accuracy: 0.7038 - val_loss: 0.7614 - val_accuracy: 0.6845\n",
            "Epoch 3/10\n",
            "188/188 [==============================] - 44s 232ms/step - loss: 0.4367 - accuracy: 0.8325 - val_loss: 0.7498 - val_accuracy: 0.7385\n",
            "Epoch 4/10\n",
            "188/188 [==============================] - 44s 233ms/step - loss: 0.2456 - accuracy: 0.9228 - val_loss: 0.8446 - val_accuracy: 0.7605\n",
            "Epoch 5/10\n",
            "188/188 [==============================] - 44s 232ms/step - loss: 0.1548 - accuracy: 0.9530 - val_loss: 1.4124 - val_accuracy: 0.7290\n",
            "Epoch 6/10\n",
            "188/188 [==============================] - 44s 232ms/step - loss: 0.1210 - accuracy: 0.9623 - val_loss: 0.9849 - val_accuracy: 0.7520\n",
            "Epoch 7/10\n",
            "188/188 [==============================] - 44s 233ms/step - loss: 0.0859 - accuracy: 0.9742 - val_loss: 1.1104 - val_accuracy: 0.7530\n",
            "Epoch 8/10\n",
            "188/188 [==============================] - 44s 233ms/step - loss: 0.1099 - accuracy: 0.9655 - val_loss: 1.0524 - val_accuracy: 0.7485\n",
            "Epoch 9/10\n",
            "188/188 [==============================] - 43s 231ms/step - loss: 0.0891 - accuracy: 0.9723 - val_loss: 1.1783 - val_accuracy: 0.7500\n",
            "Epoch 10/10\n",
            "188/188 [==============================] - 44s 232ms/step - loss: 0.0653 - accuracy: 0.9810 - val_loss: 1.3273 - val_accuracy: 0.7415\n"
          ]
        }
      ]
    },
    {
      "cell_type": "code",
      "source": [
        "# TODO Plot histories\n",
        "plot_history(history.history)\n",
        "# TODO Evaluate them\n",
        "encoded_test = data_test.map(lambda x, y: (encoder(x), y))\n",
        "test_loss, test_acc = model.evaluate(encoded_test)\n",
        "print(\"Test Loss: {}\".format(test_loss))\n",
        "print(\"Test Accuracy: {}\".format(test_acc))"
      ],
      "metadata": {
        "colab": {
          "base_uri": "https://localhost:8080/",
          "height": 663
        },
        "id": "-MB6aWL7Or5t",
        "outputId": "841dbd6c-a81b-42e6-d75a-abec3138f3a2"
      },
      "execution_count": 44,
      "outputs": [
        {
          "output_type": "display_data",
          "data": {
            "image/png": "[encoded data removed]",
            "text/plain": [
              "<Figure size 1440x720 with 2 Axes>"
            ]
          },
          "metadata": {
            "needs_background": "light"
          }
        },
        {
          "output_type": "stream",
          "name": "stderr",
          "text": [
            "/usr/local/lib/python3.7/dist-packages/tensorflow/python/util/dispatch.py:1082: UserWarning: \"`sparse_categorical_crossentropy` received `from_logits=True`, but the `output` argument was produced by a sigmoid or softmax activation and thus does not represent logits. Was this intended?\"\n",
            "  return dispatch_target(*args, **kwargs)\n"
          ]
        },
        {
          "output_type": "stream",
          "name": "stdout",
          "text": [
            "250/250 [==============================] - 28s 83ms/step - loss: 0.7979 - accuracy: 0.7226\n",
            "Test Loss: 0.797921895980835\n",
            "Test Accuracy: 0.7226250171661377\n"
          ]
        }
      ]
    },
    {
      "cell_type": "markdown",
      "metadata": {
        "id": "UoN2KGZUF1_m"
      },
      "source": [
        "### Problem (7) Process new strings\n",
        "\n",
        "a) Export the model to take raw strings as inputs (Hint: compile the TextVectorization layer and the model together to a new model). Take the following questions as input, what are the predicted tags?  Do you agree with the tags predicted by your model? (Code and text)\n",
        "* \"how do I extract keys from a dict into a list?\"\n",
        "* \"debug public static void main(string[] args) {...}\"\n",
        "> The predicted tags are `python` and `java` respectively. They seem legit, since the first string contains Python keywords such as `dict` and `list`, and the second string contains code in Java syntaxes `public static void main(string[] args) {...}`."
      ]
    },
    {
      "cell_type": "code",
      "metadata": {
        "id": "ihV_gtwkHGp3",
        "colab": {
          "base_uri": "https://localhost:8080/"
        },
        "outputId": "379a4996-3838-4e03-ff71-988fbabd988e"
      },
      "source": [
        "trial1 = \"how do I extract keys from a dict into a list?\"\n",
        "trial2 = \"debug public static void main(string[] args) ...\"\n",
        "\n",
        "trials = [trial1, trial2]\n",
        "\n",
        "for trial in trials:\n",
        "    # TODO pass these text values through the model.\n",
        "    x = encoder(tf.expand_dims(trial, 0))\n",
        "    y = model.predict(x)\n",
        "    # TODO print the predictions\n",
        "    label = tf.argmax(y, axis=1)\n",
        "    print(data_train.class_names[label[0]])"
      ],
      "execution_count": 45,
      "outputs": [
        {
          "output_type": "stream",
          "name": "stdout",
          "text": [
            "python\n",
            "java\n"
          ]
        }
      ]
    },
    {
      "cell_type": "markdown",
      "metadata": {
        "id": "LPb_IUEQRxt-"
      },
      "source": [
        "### Problem (8) Compare CNN with RNN\n",
        "What is the conceptual difference between image classification and text classification in terms of feature extractions? (Think spatial vs temporal.)\n",
        "\n",
        "* Image classification extracts edges as features. Convolution with feature selection mask is performed through the pixels to extract certain patterns/edge on the image). The feature are then preserved and passed onto the next neural network layer.\n",
        "\n",
        "* Text Classification extract keywords as features.In order to classify some text data, texts are broken down into vocabularies, from which the classification model can pick certain keywords and then analyze from their contextual information."
      ]
    }
  ]
}