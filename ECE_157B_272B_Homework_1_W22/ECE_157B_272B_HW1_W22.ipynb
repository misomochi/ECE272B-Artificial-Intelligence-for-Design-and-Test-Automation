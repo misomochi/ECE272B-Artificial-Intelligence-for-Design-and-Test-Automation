{
  "nbformat": 4,
  "nbformat_minor": 0,
  "metadata": {
    "colab": {
      "name": "ECE_157B_272B_HW1_W22.ipynb",
      "provenance": [],
      "collapsed_sections": []
    },
    "kernelspec": {
      "name": "python3",
      "display_name": "Python 3"
    },
    "language_info": {
      "name": "python"
    },
    "accelerator": "GPU"
  },
  "cells": [
    {
      "cell_type": "markdown",
      "source": [
        "----------\n",
        "# Introduction\n",
        "----------"
      ],
      "metadata": {
        "id": "YTgSP283ids0"
      }
    },
    {
      "cell_type": "markdown",
      "source": [
        "This notebook provides code template and quetions as listed under the Problem Formulation in the intruction PDF. \n",
        "\n",
        "**Please Implement the TODOs and write your answer under the following\n",
        "question prompt**\n",
        "\n",
        "After you finish, go to File -> Download -> Download '.ipynb', save the notebook and submit to GradeScope. \n",
        "\n",
        "*   Gradescope: https://www.gradescope.com/courses/351582\n",
        "*   Course entry code: 5V3YRX\n",
        "\n",
        "\n",
        "\n",
        "\n",
        "Do not close the cell outputs after running the code cells, so that all logging and plots will be saved in the notebook for grading."
      ],
      "metadata": {
        "id": "wkp6Q5XNh_wO"
      }
    },
    {
      "cell_type": "markdown",
      "source": [
        "---\n",
        "# Preparation\n",
        "---"
      ],
      "metadata": {
        "id": "f9bl3HvJtfug"
      }
    },
    {
      "cell_type": "markdown",
      "source": [
        "## Enable GPU settings\n",
        "Go to Edit -> Notebook Settings -> Select \"GPU\" under Hardware Accelerator"
      ],
      "metadata": {
        "id": "vvNHPqh8R3xE"
      }
    },
    {
      "cell_type": "code",
      "source": [
        "!nvidia-smi"
      ],
      "metadata": {
        "id": "KxU4sTESSlIg",
        "colab": {
          "base_uri": "https://localhost:8080/"
        },
        "outputId": "6a4d79d5-f52e-45e7-87b9-1f8b964133dc"
      },
      "execution_count": null,
      "outputs": [
        {
          "output_type": "stream",
          "name": "stdout",
          "text": [
            "Tue Jan 18 08:59:05 2022       \n",
            "+-----------------------------------------------------------------------------+\n",
            "| NVIDIA-SMI 495.46       Driver Version: 460.32.03    CUDA Version: 11.2     |\n",
            "|-------------------------------+----------------------+----------------------+\n",
            "| GPU  Name        Persistence-M| Bus-Id        Disp.A | Volatile Uncorr. ECC |\n",
            "| Fan  Temp  Perf  Pwr:Usage/Cap|         Memory-Usage | GPU-Util  Compute M. |\n",
            "|                               |                      |               MIG M. |\n",
            "|===============================+======================+======================|\n",
            "|   0  Tesla T4            Off  | 00000000:00:04.0 Off |                    0 |\n",
            "| N/A   61C    P0    30W /  70W |   1172MiB / 15109MiB |      0%      Default |\n",
            "|                               |                      |                  N/A |\n",
            "+-------------------------------+----------------------+----------------------+\n",
            "                                                                               \n",
            "+-----------------------------------------------------------------------------+\n",
            "| Processes:                                                                  |\n",
            "|  GPU   GI   CI        PID   Type   Process name                  GPU Memory |\n",
            "|        ID   ID                                                   Usage      |\n",
            "|=============================================================================|\n",
            "|  No running processes found                                                 |\n",
            "+-----------------------------------------------------------------------------+\n"
          ]
        }
      ]
    },
    {
      "cell_type": "markdown",
      "source": [
        "## Import libraries"
      ],
      "metadata": {
        "id": "F8aZdTI0tnRN"
      }
    },
    {
      "cell_type": "code",
      "execution_count": null,
      "metadata": {
        "id": "xoq932sKtSPo"
      },
      "outputs": [],
      "source": [
        "import os\n",
        "import urllib\n",
        "import pandas as pd\n",
        "import numpy as np\n",
        "import matplotlib.pyplot as plt\n",
        "import pickle\n",
        "\n",
        "import typing\n",
        "from typing import Tuple\n",
        "\n",
        "# TensorFlow and tf.keras\n",
        "import tensorflow as tf\n",
        "from tensorflow.keras.utils import to_categorical\n",
        "from tensorflow.keras.models import Sequential\n",
        "from tensorflow.keras.layers import Dense, Conv2D, MaxPooling2D, Flatten, Dropout, Activation, RandomFlip, RandomRotation\n",
        "from tensorflow.keras.callbacks import EarlyStopping\n",
        "\n",
        "# TF setting:\n",
        "tf.config.experimental_run_functions_eagerly(True)\n",
        "\n",
        "# We still need some useful helper functions from sklearn\n",
        "from sklearn.model_selection import train_test_split\n",
        "from skimage.transform import resize\n",
        "\n",
        "RANDOM_SEED = 42\n",
        "np.random.seed(RANDOM_SEED)\n",
        "tf.random.set_seed(RANDOM_SEED)"
      ]
    },
    {
      "cell_type": "code",
      "source": [
        "# Config logger\n",
        "import logging\n",
        "logging.basicConfig()\n",
        "logger = logging.getLogger(__name__)\n",
        "logger.setLevel(logging.DEBUG) # Can switch to INFO"
      ],
      "metadata": {
        "id": "h1bAJEe3mVnz"
      },
      "execution_count": null,
      "outputs": []
    },
    {
      "cell_type": "markdown",
      "source": [
        "## Helper Functions Shared by Both Parts"
      ],
      "metadata": {
        "id": "PKfdZyWJr-r7"
      }
    },
    {
      "cell_type": "code",
      "source": [
        "# Download wafer data set from the shared url\n",
        "def download(save_path, url):\n",
        "\t#Parse save_path and create directory if not present\n",
        "    save_dir = os.path.dirname(save_path)\n",
        "\t\n",
        "    try:\n",
        "        os.mkdir(save_dir)\n",
        "        logger.info(f'Created new folder {save_dir}')\n",
        "    except FileExistsError:\n",
        "        pass\n",
        "\n",
        "    # Retrieve pickle file from the given url and save to the path \n",
        "    downloaded = urllib.request.urlretrieve(url, save_path)\n",
        "    logger.info(f'File saved to {downloaded[0]}')\n",
        "\n",
        "# TODO: Implement a function that shows one wafer map example from each of failure categories\n",
        "def visualize_data_categories(df):\n",
        "    # This function should generate a single plot showing one wafer map image for each failure type.\n",
        "    categories = pd.unique(df['failureType'])\n",
        "    for category in categories:\n",
        "        if category != 'unknown':\n",
        "            temp = df.loc[df['failureType'] == category]\n",
        "            plt.imshow(temp['waferMap'].sample().iloc[0])\n",
        "            plt.title(category)\n",
        "            plt.show()"
      ],
      "metadata": {
        "id": "xn3tdzM8seNz"
      },
      "execution_count": null,
      "outputs": []
    },
    {
      "cell_type": "markdown",
      "source": [
        "-----------\n",
        "# Part 1: Wafer Map Failure Classification on the Simple Data Set Generated By TA\n",
        "-----------"
      ],
      "metadata": {
        "id": "n_gwoFCirXrm"
      }
    },
    {
      "cell_type": "markdown",
      "source": [
        "We start with a simple data set generated by TAs. The data is stored as a Pandas DataFrame (atable). TAs provided the code for downloading the data set from a shared URLs to your GoogleColab file system."
      ],
      "metadata": {
        "id": "Pp_fhnHxh0BS"
      }
    },
    {
      "cell_type": "markdown",
      "source": [
        "### Data Downloading\n"
      ],
      "metadata": {
        "id": "sjbga1J0o_nX"
      }
    },
    {
      "cell_type": "code",
      "source": [
        "data_url_1 = 'https://ucsb.box.com/shared/static/1f5mvjhxsydp94e70b2hgdmivev54mej.pkl' # url for the 1st data set\n",
        "\n",
        "save_path_1 = './hw1/dataset_one.pkl' # you can change this to any path string\n",
        "\n",
        "# Let's call the download function to get our 2 data sets\n",
        "dataset_1 = download(save_path_1, data_url_1)\n",
        "\n",
        "# Read the data frame from downloaded pickle files\n",
        "df1 = pd.read_pickle(save_path_1)\n",
        "# Let's see what's in the data frame \n",
        "logger.debug(df1.info())"
      ],
      "metadata": {
        "id": "jzda1R6GuT6x",
        "colab": {
          "base_uri": "https://localhost:8080/"
        },
        "outputId": "be059af7-1c08-426a-ac2c-741719d7f35a"
      },
      "execution_count": null,
      "outputs": [
        {
          "output_type": "stream",
          "name": "stderr",
          "text": [
            "INFO:__main__:File saved to ./hw1/dataset_one.pkl\n",
            "DEBUG:__main__:None\n"
          ]
        },
        {
          "output_type": "stream",
          "name": "stdout",
          "text": [
            "<class 'pandas.core.frame.DataFrame'>\n",
            "RangeIndex: 3300 entries, 0 to 3299\n",
            "Data columns (total 2 columns):\n",
            " #   Column       Non-Null Count  Dtype \n",
            "---  ------       --------------  ----- \n",
            " 0   waferMap     3300 non-null   object\n",
            " 1   failureType  3300 non-null   object\n",
            "dtypes: object(2)\n",
            "memory usage: 51.7+ KB\n"
          ]
        }
      ]
    },
    {
      "cell_type": "markdown",
      "source": [
        "Q.1 (2 pts): Download the first data set and visualize the failure types by randomly selecting onewafer map from each failure type. Generate a single plot showing one wafer map image foreach of the six failure types."
      ],
      "metadata": {
        "id": "RdB3IfGQDw8v"
      }
    },
    {
      "cell_type": "code",
      "source": [
        "visualize_data_categories(df1)"
      ],
      "metadata": {
        "id": "1ORd0PNFD3HL",
        "colab": {
          "base_uri": "https://localhost:8080/",
          "height": 1000
        },
        "outputId": "9e735b50-bde0-4ed3-8dde-e2d24e31c8f9"
      },
      "execution_count": null,
      "outputs": [
        {
          "output_type": "display_data",
          "data": {
            "image/png": "[encoded data removed]",
            "text/plain": [
              "<Figure size 432x288 with 1 Axes>"
            ]
          },
          "metadata": {
            "needs_background": "light"
          }
        },
        {
          "output_type": "display_data",
          "data": {
            "image/png": "[encoded data removed]",
            "text/plain": [
              "<Figure size 432x288 with 1 Axes>"
            ]
          },
          "metadata": {
            "needs_background": "light"
          }
        },
        {
          "output_type": "display_data",
          "data": {
            "image/png": "[encoded data removed]",
            "text/plain": [
              "<Figure size 432x288 with 1 Axes>"
            ]
          },
          "metadata": {
            "needs_background": "light"
          }
        },
        {
          "output_type": "display_data",
          "data": {
            "image/png": "[encoded data removed]",
            "text/plain": [
              "<Figure size 432x288 with 1 Axes>"
            ]
          },
          "metadata": {
            "needs_background": "light"
          }
        },
        {
          "output_type": "display_data",
          "data": {
            "image/png": "[encoded data removed]",
            "text/plain": [
              "<Figure size 432x288 with 1 Axes>"
            ]
          },
          "metadata": {
            "needs_background": "light"
          }
        },
        {
          "output_type": "display_data",
          "data": {
            "image/png": "[encoded data removed]",
            "text/plain": [
              "<Figure size 432x288 with 1 Axes>"
            ]
          },
          "metadata": {
            "needs_background": "light"
          }
        }
      ]
    },
    {
      "cell_type": "markdown",
      "source": [
        "### Prepare Data "
      ],
      "metadata": {
        "id": "5EsEUDHAwOkv"
      }
    },
    {
      "cell_type": "code",
      "source": [
        "# (2 pts) TODO: write a function that (1) gets the 300 labeled wafer maps with their known labels,\n",
        "#       (2) reshapes the wafer maps as a numpy array of shape [300, 64, 64, 1], \n",
        "#       (3) and converts the labels into numeric values \n",
        "def prepare_labeled_data_one(df: pd.DataFrame) -> Tuple[np.ndarray, np.ndarray]:\n",
        "    # Hint: use the function to_categorical to convert a class vector (integers) to binary class matrix.\n",
        "    #       E.g. for use with categorical_crossentropy.\n",
        "    df_known = df.loc[df['failureType'] != 'unknown']\n",
        "    np_waferMap = np.empty((df_known.shape[0], 64, 64))\n",
        "    for i in range(0, df_known.shape[0]):\n",
        "        np_waferMap[i] = df_known.iloc[i, 0]\n",
        "    np_waferMap = np_waferMap.reshape((df_known.shape[0], 64, 64, 1))\n",
        "    \n",
        "    dictionary = {'pass': 0,\n",
        "                  'edge': 1,\n",
        "                  'deform': 2,\n",
        "                  'total_loss': 3,\n",
        "                  'crack': 4,\n",
        "                  'nodule': 5}\n",
        "    np_failureType = df_known['failureType'].map(dictionary).to_numpy().reshape((df_known.shape[0], 1))\n",
        "    np_failureType = to_categorical(np_failureType, num_classes=6, dtype='int')\n",
        "\n",
        "    return np_waferMap, np_failureType\n",
        "\n",
        "# (2 pts) TODO: write a function that (1) gets the 3000 unknown wafer maps, \n",
        "#       (2)  reshapes the wafer maps as a numpy array of shape [3000, 64, 64, 1]\n",
        "def prepare_unlabeled_data_one(df: pd.DataFrame) -> np.ndarray:\n",
        "    df_unknown = df.loc[df['failureType'] == 'unknown']\n",
        "    np_waferMap =  np.empty((df_unknown.shape[0], 64, 64))\n",
        "    for i in range(0, df_unknown.shape[0]):\n",
        "        np_waferMap[i] = df_unknown.iloc[i, 0]\n",
        "\n",
        "    return np_waferMap.reshape((df_unknown.shape[0], 64, 64, 1))"
      ],
      "metadata": {
        "id": "eK79vXw8wdW_"
      },
      "execution_count": null,
      "outputs": []
    },
    {
      "cell_type": "markdown",
      "source": [
        "### Train/Validation Split"
      ],
      "metadata": {
        "id": "4ZqNpmbxwx3Q"
      }
    },
    {
      "cell_type": "markdown",
      "source": [
        "Q.2: (3 pts): Use at least three training and validation split ratio and show the validation prediction accuracy for each split ratio. Explain why the accuracy rises or drops in each configuration. Which ratio did you choose at the end?\n",
        "\n",
        "> split_ratio = 0.2\n",
        "\n",
        "Epoch 1/5\n",
        "8/8 [==============================] - 11s 54ms/step - loss: 1.1256 - accuracy: 0.6750 - val_loss: 0.6000 - val_accuracy: 0.8000\n",
        "Epoch 2/5\n",
        "8/8 [==============================] - 0s 23ms/step - loss: 0.2861 - accuracy: 0.9167 - val_loss: 0.1439 - val_accuracy: 0.9833\n",
        "\n",
        "> split_ratio = 0.25\n",
        "\n",
        "Epoch 1/5\n",
        "8/8 [==============================] - 2s 242ms/step - loss: 1.1472 - accuracy: 0.6222 - val_loss: 0.8574 - val_accuracy: 0.7600\n",
        "Epoch 2/5\n",
        "8/8 [==============================] - 2s 226ms/step - loss: 0.3400 - accuracy: 0.9067 - val_loss: 0.1599 - val_accuracy: 0.9733\n",
        "\n",
        "> split_ratio = 0.3\n",
        "\n",
        "Epoch 1/5\n",
        "7/7 [==============================] - 2s 236ms/step - loss: 1.0583 - accuracy: 0.6667 - val_loss: 0.4424 - val_accuracy: 0.9556\n",
        "Epoch 2/5\n",
        "7/7 [==============================] - 2s 228ms/step - loss: 0.2463 - accuracy: 0.9571 - val_loss: 0.1581 - val_accuracy: 0.9444\n",
        "\n",
        "> As the split ratio changes, the training data and the corresponding validation data differs in each configuration. The trained model fits the validation data to different extents, thus resulting in rise and drop in accuracy. I chose 0.25 as the split ratio since it produces better prediction accuracy overall.\n",
        "\n",
        "\n",
        "\n",
        "\n",
        "\n",
        "\n",
        "\n"
      ],
      "metadata": {
        "id": "n5Kkj-duEUeU"
      }
    },
    {
      "cell_type": "code",
      "source": [
        "X1, y1 = prepare_labeled_data_one(df1)\n",
        "\n",
        "# Split data into train and eval set\n",
        "# TODO: Experiment with three training and validation split ratio \n",
        "split_ratio = 0.25\n",
        "X1_train, X1_valid, y1_train, y1_valid = train_test_split(X1, y1, test_size=split_ratio, random_state=RANDOM_SEED)\n",
        "logger.debug(f'X1_train: {X1_train.shape}, X1_valid: {X1_valid.shape}, y1_train: {y1_train.shape}, y1_valid: {y1_valid.shape}')"
      ],
      "metadata": {
        "id": "GIyVrow7ww3y",
        "colab": {
          "base_uri": "https://localhost:8080/"
        },
        "outputId": "3c4a586c-f43b-474b-8eb3-c9a3f37b191f"
      },
      "execution_count": null,
      "outputs": [
        {
          "output_type": "stream",
          "name": "stderr",
          "text": [
            "DEBUG:__main__:X1_train: (225, 64, 64, 1), X1_valid: (75, 64, 64, 1), y1_train: (225, 6), y1_valid: (75, 6)\n"
          ]
        }
      ]
    },
    {
      "cell_type": "markdown",
      "source": [
        "### Tensorflow Neural Network Model "
      ],
      "metadata": {
        "id": "IXOOYzPw0rFB"
      }
    },
    {
      "cell_type": "code",
      "source": [
        "# Create a NN model\n",
        "def create_model(image_shape=(64, 64, 1), n_categories=6, conv_activation='relu', conv_padding='same', output_activation='softmax'):\n",
        "    # Initailize a sequential model: a model with plain stack of layers where each layer has exactly one input tensor and one output tensor.\n",
        "    model = Sequential(name='wafer_clf')\n",
        "\n",
        "    # Start with two CONV layers and one maxpooling in between for feature extraction\n",
        "    # TODO: Experiment with other types of layers here.\n",
        "    #model.add(Conv2D(filters=32, kernel_size=3, activation=conv_activation, input_shape=image_shape, padding=conv_padding))\n",
        "    model.add(Conv2D(filters=32, kernel_size=3, activation=conv_activation, input_shape=image_shape, padding=conv_padding, kernel_regularizer=tf.keras.regularizers.L2(0.1)))\n",
        "    model.add(MaxPooling2D((2, 2)))\n",
        "    #model.add(Dropout(rate=0.2))\n",
        "    #model.add(Conv2D(64, (3, 3), activation=conv_activation, padding=conv_padding))\n",
        "    model.add(Conv2D(64, (3, 3), activation=conv_activation, padding=conv_padding, kernel_regularizer=tf.keras.regularizers.L2(0.1)))\n",
        "\n",
        "    # Reshape the output to one dimensional array\n",
        "    model.add(Flatten())\n",
        "\n",
        "    # Use one dense layer for classification\n",
        "    model.add(Dense(n_categories, activation=output_activation))\n",
        "    #model.add(Dense(n_categories, activation=output_activation, kernel_regularizer=tf.keras.regularizers.L2(0.1)))\n",
        "\n",
        "    return model"
      ],
      "metadata": {
        "id": "KpLafp1_0jg6"
      },
      "execution_count": null,
      "outputs": []
    },
    {
      "cell_type": "markdown",
      "source": [
        "Q.3 (2 pts) : Provide the definitions for the following hyper-parameters.\n",
        "1.   (1 pt) Number of filters of a CNN layer\n",
        "\n",
        "> It means the dimensionality of the output space, i.e., the number of output filters in the convolution.\n",
        "\n",
        "2.   (1 pt) Kernel size of a CNN layer\n",
        "\n",
        "> It specifies the height and width of the 2D convolution window.\n"
      ],
      "metadata": {
        "id": "vMN6YzMKMecv"
      }
    },
    {
      "cell_type": "markdown",
      "source": [
        "### Model Training"
      ],
      "metadata": {
        "id": "v1FYRFNM4ZFe"
      }
    },
    {
      "cell_type": "code",
      "source": [
        "# Create a model first\n",
        "model = create_model()\n",
        "\n",
        "# Compile model using accuracy to measure model performance\n",
        "model.compile(optimizer='adam', \n",
        "              loss=tf.keras.losses.CategoricalCrossentropy(from_logits=False),\n",
        "              metrics=['accuracy'])"
      ],
      "metadata": {
        "id": "5Vg85SuZ4b7O"
      },
      "execution_count": null,
      "outputs": []
    },
    {
      "cell_type": "markdown",
      "source": [
        "Q.4: (2 pts) Why is the provided network using a Softmax activation function in the final dense layer? Can we use a different activation function instead?\n",
        "\n",
        "> Softmax function converts a vector of values into a normalized probability distribution, i.e., the elements of output vector are in range of (0, 1) and sum to 1, which is suitable for multiclass classification problems. For this reason, it is used in the final dense layer of the provided network.\n",
        "\n",
        "> Better not. For instance, applying linear activation functions may lead to unbounded results, which are more suitable for regression problems. On the other hand, sigmoid function suits binary classification problems better, which is not the case here.\n",
        "\n"
      ],
      "metadata": {
        "id": "RiwhMXnmQAp6"
      }
    },
    {
      "cell_type": "markdown",
      "source": [
        "Q.5 (Bonus:  2 pts) We’ve learned Binary Cross Entropy loss function in class.  Why is the provided network using the Categorical Cross Entropy as loss function? How are the two related?\n",
        "\n",
        "> Categorical cross entropy is used for being well suited to multiclass classification tasks, since one example can be considered to belong to a specific category with probability 1, and to other categories with probability 0.\n",
        "\n",
        "> Binary cross entropy is intended to use with binary/multi-label classification tasks where the target value is 0 or 1 and categorical cross entropy is for multiclass classification. Both work for binary classification, but for categorical cross entropy the data needs to be changed to one-hot encoding.\n",
        "\n"
      ],
      "metadata": {
        "id": "-bOLBMX-TG8T"
      }
    },
    {
      "cell_type": "code",
      "source": [
        "# Callback function for early stopping and restore the model weights with best accuracy\n",
        "early_stop = EarlyStopping(monitor='val_accuracy', patience = 2, restore_best_weights=True)\n",
        "callbacks_list = [early_stop]"
      ],
      "metadata": {
        "id": "uH158CjX517A"
      },
      "execution_count": null,
      "outputs": []
    },
    {
      "cell_type": "code",
      "source": [
        "# Training: fit our data with the NN model\n",
        "\n",
        "batch_size = 32\n",
        "total_epochs = 10\n",
        "\n",
        "history = model.fit(X1_train, y1_train, epochs=total_epochs, \n",
        "                    validation_data=(X1_valid, y1_valid),\n",
        "                    callbacks=callbacks_list,\n",
        "                    batch_size=batch_size,\n",
        "                    )"
      ],
      "metadata": {
        "id": "iXSfGZig5KVV",
        "colab": {
          "base_uri": "https://localhost:8080/"
        },
        "outputId": "5a8c5180-1a74-40f6-ceaf-02bb007c81fd"
      },
      "execution_count": null,
      "outputs": [
        {
          "output_type": "stream",
          "name": "stdout",
          "text": [
            "Epoch 1/10\n",
            "\r1/8 [==>...........................] - ETA: 0s - loss: 6.2005 - accuracy: 0.0312"
          ]
        },
        {
          "output_type": "stream",
          "name": "stderr",
          "text": [
            "/usr/local/lib/python3.7/dist-packages/tensorflow/python/data/ops/dataset_ops.py:4527: UserWarning: Even though the `tf.config.experimental_run_functions_eagerly` option is set, this option does not apply to tf.data functions. To force eager execution of tf.data functions, please use `tf.data.experimental.enable_debug_mode()`.\n",
            "  \"Even though the `tf.config.experimental_run_functions_eagerly` \"\n"
          ]
        },
        {
          "output_type": "stream",
          "name": "stdout",
          "text": [
            "8/8 [==============================] - 0s 40ms/step - loss: 5.1203 - accuracy: 0.6578 - val_loss: 4.0425 - val_accuracy: 0.8800\n",
            "Epoch 2/10\n",
            "8/8 [==============================] - 0s 29ms/step - loss: 3.6681 - accuracy: 0.8622 - val_loss: 3.2407 - val_accuracy: 0.9067\n",
            "Epoch 3/10\n",
            "8/8 [==============================] - 0s 34ms/step - loss: 2.9111 - accuracy: 0.9556 - val_loss: 2.6194 - val_accuracy: 0.9067\n",
            "Epoch 4/10\n",
            "8/8 [==============================] - 0s 32ms/step - loss: 2.3420 - accuracy: 0.9778 - val_loss: 2.0882 - val_accuracy: 0.9467\n",
            "Epoch 5/10\n",
            "8/8 [==============================] - 0s 30ms/step - loss: 1.9251 - accuracy: 0.9689 - val_loss: 1.9295 - val_accuracy: 0.8667\n",
            "Epoch 6/10\n",
            "8/8 [==============================] - 0s 32ms/step - loss: 1.5702 - accuracy: 0.9867 - val_loss: 1.4114 - val_accuracy: 0.9867\n",
            "Epoch 7/10\n",
            "8/8 [==============================] - 0s 36ms/step - loss: 1.2945 - accuracy: 0.9911 - val_loss: 1.2276 - val_accuracy: 0.9467\n",
            "Epoch 8/10\n",
            "8/8 [==============================] - 0s 27ms/step - loss: 1.0738 - accuracy: 0.9867 - val_loss: 1.0193 - val_accuracy: 0.9600\n"
          ]
        }
      ]
    },
    {
      "cell_type": "markdown",
      "source": [
        "Q.6: (8 pts) Make these four modification to the model provided above (one at a time) and explain how they affect the accuracy.\n",
        "\n",
        "1.   (2 pts) Add Dropout layers and explain its effect\n",
        "\n",
        "> Dropout layers offer a computationally cheap and effective regularization method to reduce overfitting and enhance generalization error.\n",
        "\n",
        "\n",
        "2.   (2 pts) Add more CNN layers and explain its effect\n",
        "\n",
        "> Since the size of the training data is relatively small, adding more CNN layers may lead to overfitting and reduces the validation accuracy.\n",
        "\n",
        "\n",
        "3.   (2 pts) Add L2 regularization to CNN layers and explain its effect\n",
        "\n",
        "> L2 regularization lowers the model complexity to prevent overfitting. The values of weight will decrease as L2 regularization penalizes the them. The weights then end up having less impact on the loss function which determines the error between the actual label and the predicted label.\n",
        "\n",
        "\n",
        "4.   (2 pts) L2 regularization to Dense layers and explain its effect\n",
        "\n",
        "> L2 regularization plays the same role as itself in the previous question. However, since the dense layer is the output layer, penalizing the weights of it causes the validation accuracy to vary greatly every epoch.\n",
        "\n",
        "\n",
        "\n",
        "**From this point, proceed with a model and configuration of your choosing.**\n"
      ],
      "metadata": {
        "id": "lAnDYkuG7x4o"
      }
    },
    {
      "cell_type": "code",
      "source": [
        "# Let's take a look at the model summary\n",
        "model.summary()"
      ],
      "metadata": {
        "id": "lI5caiv74Qds",
        "colab": {
          "base_uri": "https://localhost:8080/"
        },
        "outputId": "9a385128-1088-437d-ae8b-b6df5bafed5e"
      },
      "execution_count": null,
      "outputs": [
        {
          "output_type": "stream",
          "name": "stdout",
          "text": [
            "Model: \"wafer_clf\"\n",
            "_________________________________________________________________\n",
            " Layer (type)                Output Shape              Param #   \n",
            "=================================================================\n",
            " conv2d_24 (Conv2D)          (None, 64, 64, 32)        320       \n",
            "                                                                 \n",
            " max_pooling2d_12 (MaxPoolin  (None, 32, 32, 32)       0         \n",
            " g2D)                                                            \n",
            "                                                                 \n",
            " conv2d_25 (Conv2D)          (None, 32, 32, 64)        18496     \n",
            "                                                                 \n",
            " flatten_12 (Flatten)        (None, 65536)             0         \n",
            "                                                                 \n",
            " dense_12 (Dense)            (None, 6)                 393222    \n",
            "                                                                 \n",
            "=================================================================\n",
            "Total params: 412,038\n",
            "Trainable params: 412,038\n",
            "Non-trainable params: 0\n",
            "_________________________________________________________________\n"
          ]
        }
      ]
    },
    {
      "cell_type": "markdown",
      "source": [
        "### Image Augmentation"
      ],
      "metadata": {
        "id": "oLgtLKqlTtJ_"
      }
    },
    {
      "cell_type": "code",
      "source": [
        "# A helper function that converts one-hot encoding back to integer\n",
        "def onehot2int(labels_in_onehot):\n",
        "    try:\n",
        "        label = np.argmax(labels_in_onehot, axis=1)\n",
        "    except:\n",
        "        label = np.argmax(labels_in_onehot)\n",
        "    return label\n",
        "\n",
        "# TODO: Implement a function that augments the data set by \n",
        "#       adding the rotated, or horizontally/vertically flipped image of each wafer map,\n",
        "#       and repeats the labels accordingly\n",
        "def augment_data(wafer_data: np.ndarray, wafer_labels: np.ndarray) -> Tuple[np.ndarray, np.ndarray]:\n",
        "    data_augmentation = Sequential([\n",
        "        RandomFlip(mode=\"horizontal_and_vertical\"), \n",
        "        RandomRotation(1)\n",
        "    ])\n",
        "\n",
        "    augmented_images = []\n",
        "    augmented_labels = []\n",
        "\n",
        "    for image, label in zip(wafer_data, wafer_labels):\n",
        "        image = tf.expand_dims(image, 0)\n",
        "        augmented_images.append(image)\n",
        "        augmented_labels.append(label)\n",
        "\n",
        "        # data augmentation for failed classes\n",
        "        if label[0] != 1:\n",
        "            for i in range(6):\n",
        "                augmented_images.append(data_augmentation(image))\n",
        "                augmented_labels.append(label)\n",
        "    \n",
        "    augmented_images = np.concatenate(augmented_images, axis=0)\n",
        "    augmented_labels = np.array(augmented_labels)\n",
        "\n",
        "    return augmented_images, augmented_labels\n",
        "\n",
        "# (2 pts) TODO: Implement a function that takes our trained model to predict labels for the wafer maps\n",
        "def predict_labels_part_one(data_to_predict: np.ndarray, model: tf.keras.Model) -> list:\n",
        "    prediction = model.predict(data_to_predict)\n",
        "\n",
        "    return onehot2int(prediction)\n",
        "\n",
        "# TODO: Implement a function that computes the confusion matrix for the predicted result. \n",
        "def compute_confusion_matrix(pred_labels: np.ndarray, true_labels: np.ndarray) -> np.ndarray:\n",
        "    # Calculate the confusion matrix\n",
        "    return tf.math.confusion_matrix(true_labels, pred_labels)\n",
        "\n",
        "# (2 pts) TODO: Implement a function that calculates the prediction accuracy.\n",
        "def calculate_accuracy(pred_labels: np.ndarray, true_labels: np.ndarray) -> float:\n",
        "    if pred_labels.shape[0] != true_labels.shape[0]:\n",
        "        raise IndexError('Size of pred_labels does not match that of true_labels.')\n",
        "    \n",
        "    match = 0\n",
        "    total = pred_labels.shape[0]\n",
        "    for i in range(pred_labels.shape[0]):\n",
        "        if pred_labels[i] != true_labels[i]:\n",
        "            continue\n",
        "        match = match + 1\n",
        "    \n",
        "    return match / total"
      ],
      "metadata": {
        "id": "Tf8KEXI7Tv5b"
      },
      "execution_count": null,
      "outputs": []
    },
    {
      "cell_type": "code",
      "source": [
        "# Use image augmentation to generate 100 more images for each failing class (total of five)\n",
        "# Note that the number of total augmented images obtained should be equal to: 169 pass + 131 others * 6 = 955\n",
        "# Now if we count the number of images in each class, they are 169, 162, 174, 198, 150, 102. The data set is more even \n",
        "augmented_X1, augmented_y1 = augment_data(X1, y1)\n",
        "logger.debug(f'augmented_X1: {augmented_X1.shape}, augmented_y1: {augmented_y1.shape}')\n",
        "\n",
        "# Train Split \n",
        "split_ratio = 0.25\n",
        "aug_X1_train, aug_X1_valid, aug_y1_train, aug_y1_valid = train_test_split(augmented_X1, augmented_y1, test_size=split_ratio, random_state=RANDOM_SEED)\n",
        "logger.debug(f'aug_X1_train: {aug_X1_train.shape}, aug_X1_valid: {aug_X1_valid.shape}, aug_y1_train: {aug_y1_train.shape}, aug_y1_valid: {aug_y1_valid.shape}')"
      ],
      "metadata": {
        "id": "JWz5SSXG9E_p",
        "colab": {
          "base_uri": "https://localhost:8080/"
        },
        "outputId": "d407f2fc-e09c-402e-ebfe-0dc99992d451"
      },
      "execution_count": null,
      "outputs": [
        {
          "output_type": "stream",
          "name": "stderr",
          "text": [
            "DEBUG:__main__:augmented_X1: (1086, 64, 64, 1), augmented_y1: (1086, 6)\n",
            "DEBUG:__main__:aug_X1_train: (814, 64, 64, 1), aug_X1_valid: (272, 64, 64, 1), aug_y1_train: (814, 6), aug_y1_valid: (272, 6)\n"
          ]
        }
      ]
    },
    {
      "cell_type": "code",
      "source": [
        "# create a new model\n",
        "model_with_aug = create_model()\n",
        "logger.info(model_with_aug.summary())\n",
        "\n",
        "# Compile model using accuracy to measure model performance\n",
        "model_with_aug.compile(optimizer='adam', \n",
        "              loss=tf.keras.losses.CategoricalCrossentropy(from_logits=False),\n",
        "              metrics=['accuracy'])\n",
        "\n",
        "# Callback function for early stopping and restore the model weights with best accuracy\n",
        "early_stop = EarlyStopping(monitor='val_accuracy', patience=2, restore_best_weights=True) # you might want to change the patience value here.\n",
        "callbacks_list = [early_stop]\n",
        "\n",
        "batch_size = 32\n",
        "total_epochs = 10 # you might want to increase this until you see the loss converges\n",
        "\n",
        "history = model_with_aug.fit(aug_X1_train, aug_y1_train, epochs=total_epochs, \n",
        "                    validation_data=(aug_X1_valid, aug_y1_valid),\n",
        "                    callbacks=callbacks_list,\n",
        "                    batch_size=batch_size,\n",
        "                    )"
      ],
      "metadata": {
        "id": "F0Mwa0QFUt4G",
        "colab": {
          "base_uri": "https://localhost:8080/"
        },
        "outputId": "a2500ba4-cb9f-4abe-cd64-9bcf18bf0243"
      },
      "execution_count": null,
      "outputs": [
        {
          "output_type": "stream",
          "name": "stderr",
          "text": [
            "INFO:__main__:None\n"
          ]
        },
        {
          "output_type": "stream",
          "name": "stdout",
          "text": [
            "Model: \"wafer_clf\"\n",
            "_________________________________________________________________\n",
            " Layer (type)                Output Shape              Param #   \n",
            "=================================================================\n",
            " conv2d_36 (Conv2D)          (None, 64, 64, 32)        320       \n",
            "                                                                 \n",
            " max_pooling2d_18 (MaxPoolin  (None, 32, 32, 32)       0         \n",
            " g2D)                                                            \n",
            "                                                                 \n",
            " conv2d_37 (Conv2D)          (None, 32, 32, 64)        18496     \n",
            "                                                                 \n",
            " flatten_18 (Flatten)        (None, 65536)             0         \n",
            "                                                                 \n",
            " dense_18 (Dense)            (None, 6)                 393222    \n",
            "                                                                 \n",
            "=================================================================\n",
            "Total params: 412,038\n",
            "Trainable params: 412,038\n",
            "Non-trainable params: 0\n",
            "_________________________________________________________________\n",
            "Epoch 1/10\n",
            " 4/26 [===>..........................] - ETA: 0s - loss: 5.7210 - accuracy: 0.3906"
          ]
        },
        {
          "output_type": "stream",
          "name": "stderr",
          "text": [
            "/usr/local/lib/python3.7/dist-packages/tensorflow/python/data/ops/dataset_ops.py:4527: UserWarning: Even though the `tf.config.experimental_run_functions_eagerly` option is set, this option does not apply to tf.data functions. To force eager execution of tf.data functions, please use `tf.data.experimental.enable_debug_mode()`.\n",
            "  \"Even though the `tf.config.experimental_run_functions_eagerly` \"\n"
          ]
        },
        {
          "output_type": "stream",
          "name": "stdout",
          "text": [
            "26/26 [==============================] - 1s 28ms/step - loss: 3.8774 - accuracy: 0.7690 - val_loss: 2.4616 - val_accuracy: 0.8787\n",
            "Epoch 2/10\n",
            "26/26 [==============================] - 1s 27ms/step - loss: 1.7007 - accuracy: 0.9631 - val_loss: 1.2309 - val_accuracy: 0.9338\n",
            "Epoch 3/10\n",
            "26/26 [==============================] - 1s 25ms/step - loss: 0.8831 - accuracy: 0.9840 - val_loss: 0.7849 - val_accuracy: 0.9191\n",
            "Epoch 4/10\n",
            "26/26 [==============================] - 1s 25ms/step - loss: 0.5587 - accuracy: 0.9730 - val_loss: 0.4655 - val_accuracy: 0.9816\n",
            "Epoch 5/10\n",
            "26/26 [==============================] - 1s 24ms/step - loss: 0.3628 - accuracy: 0.9902 - val_loss: 0.3804 - val_accuracy: 0.9449\n",
            "Epoch 6/10\n",
            "26/26 [==============================] - 1s 26ms/step - loss: 0.3539 - accuracy: 0.9644 - val_loss: 0.3286 - val_accuracy: 0.9853\n",
            "Epoch 7/10\n",
            "26/26 [==============================] - 1s 25ms/step - loss: 0.2476 - accuracy: 1.0000 - val_loss: 0.2472 - val_accuracy: 0.9890\n",
            "Epoch 8/10\n",
            "26/26 [==============================] - 1s 24ms/step - loss: 0.1988 - accuracy: 1.0000 - val_loss: 0.2189 - val_accuracy: 0.9926\n",
            "Epoch 9/10\n",
            "26/26 [==============================] - 1s 25ms/step - loss: 0.1740 - accuracy: 0.9988 - val_loss: 0.2011 - val_accuracy: 0.9890\n",
            "Epoch 10/10\n",
            "26/26 [==============================] - 1s 27ms/step - loss: 0.1552 - accuracy: 1.0000 - val_loss: 0.1886 - val_accuracy: 0.9890\n"
          ]
        }
      ]
    },
    {
      "cell_type": "markdown",
      "source": [
        "Q.7: (6 pts) Use image augmentation to generate 100 more images for each failing class (total of five, excluding 'pass') and retrain your model with the added images (5 pt for implementing the augment_data function). Did the performance of the retrained model improve or decrease (1 pt)? Image augmentation could be rotation, horizontal/vertical flip, etc.\n",
        "\n",
        "> The performance of the retrained model has an obvious improvement. The validation accuracy converged to a high figure in early epoches and does not fluctuate much afterwards.\n",
        "\n"
      ],
      "metadata": {
        "id": "Hsi89ilwTTN5"
      }
    },
    {
      "cell_type": "code",
      "source": [
        "# Get the predicted results for the validation data\n",
        "pred_y1_val = predict_labels_part_one(aug_X1_valid, model_with_aug)\n",
        "\n",
        "# Get the confusion matrix for the validation predictions\n",
        "cm = compute_confusion_matrix(pred_y1_val, onehot2int(aug_y1_valid))\n",
        "logger.info(f'Confusion matrix of the tsmc validation data: \\n{cm}\\n')\n",
        "\n",
        "# Get validation accuracy\n",
        "acc = calculate_accuracy(pred_y1_val, onehot2int(aug_y1_valid))\n",
        "logger.info(f'The validation accuracy is {acc}.')"
      ],
      "metadata": {
        "id": "HF_jOWY_aHwg",
        "colab": {
          "base_uri": "https://localhost:8080/"
        },
        "outputId": "ad84646b-9c7b-4744-a064-34eec2ecef6e"
      },
      "execution_count": null,
      "outputs": [
        {
          "output_type": "stream",
          "name": "stderr",
          "text": [
            "/usr/local/lib/python3.7/dist-packages/tensorflow/python/data/ops/dataset_ops.py:4527: UserWarning: Even though the `tf.config.experimental_run_functions_eagerly` option is set, this option does not apply to tf.data functions. To force eager execution of tf.data functions, please use `tf.data.experimental.enable_debug_mode()`.\n",
            "  \"Even though the `tf.config.experimental_run_functions_eagerly` \"\n",
            "INFO:__main__:Confusion matrix of the tsmc validation data: \n",
            "[[44  0  0  0  0  0]\n",
            " [ 0 38  0  0  0  0]\n",
            " [ 0  0 66  0  0  0]\n",
            " [ 0  0  0 41  0  0]\n",
            " [ 0  0  0  0 46  0]\n",
            " [ 0  0  0  0  2 35]]\n",
            "\n",
            "INFO:__main__:The validation accuracy is 0.9926470588235294.\n"
          ]
        }
      ]
    },
    {
      "cell_type": "markdown",
      "source": [
        "Q.8: (2 pts) Show the confusion matrix for the validation predictions (include the axis values).\n",
        "\n",
        "```\n",
        "[[44  0  0  0  0  0]\n",
        " [ 0 38  0  0  0  0]\n",
        " [ 0  0 66  0  0  0]\n",
        " [ 0  0  0 41  0  0]\n",
        " [ 0  0  0  0 46  0]\n",
        " [ 0  0  0  0  2 35]]\n",
        "```\n",
        "\n",
        "\n",
        "\n",
        "\n",
        "\n"
      ],
      "metadata": {
        "id": "joZdhze9XaZ7"
      }
    },
    {
      "cell_type": "markdown",
      "source": [
        "### Unknown Data Prediction"
      ],
      "metadata": {
        "id": "STCQd2T16et-"
      }
    },
    {
      "cell_type": "code",
      "source": [
        "# Call our helper function to get the unknown wafer maps\n",
        "X1_unknown = prepare_unlabeled_data_one(df1)\n",
        "\n",
        "# Call our helper function to predict labels for the unknowns\n",
        "pred_labels = predict_labels_part_one(X1_unknown, model_with_aug)\n",
        "result = list(map({0: 'pass', 1:'edge', 2: 'deform', 3: 'total_loss', 4: 'crack', 5: 'nodule'}.get, pred_labels))\n",
        "\n",
        "# Save the labels to csv file and submit to GradeScope\n",
        "np.savetxt(\"./prediction.csv\", result, fmt='%s', delimiter=\",\")\n",
        "logger.info(f'You should now see the prediction.csv file saved on your Colab file system.\\nYou can right click on it and download to your local folder, and then submit the file to GradeScope.')"
      ],
      "metadata": {
        "colab": {
          "base_uri": "https://localhost:8080/"
        },
        "id": "vYXGSywe6iTB",
        "outputId": "67dc19aa-1edd-44ff-87d5-93260eabc87f"
      },
      "execution_count": null,
      "outputs": [
        {
          "output_type": "stream",
          "name": "stderr",
          "text": [
            "/usr/local/lib/python3.7/dist-packages/tensorflow/python/data/ops/dataset_ops.py:4527: UserWarning: Even though the `tf.config.experimental_run_functions_eagerly` option is set, this option does not apply to tf.data functions. To force eager execution of tf.data functions, please use `tf.data.experimental.enable_debug_mode()`.\n",
            "  \"Even though the `tf.config.experimental_run_functions_eagerly` \"\n",
            "INFO:__main__:You should now see the prediction.csv file saved on your Colab file system.\n",
            "You can right click on it and download to your local folder, and then submit the file to GradeScope.\n"
          ]
        }
      ]
    },
    {
      "cell_type": "markdown",
      "source": [
        "Q.9: (2 pts) After submitting to Gradescope, are you able to achieve ~95% accuracy on the unknown dataset? If yes, skip this part. If not, write a paragraph explaining what is the main problem that caused this and how you could fix it if given the necessary resources."
      ],
      "metadata": {
        "id": "Yxbw9UCEcEXk"
      }
    },
    {
      "cell_type": "markdown",
      "source": [
        "----------\n",
        "# Part 2: Classification on the TSMC Data Set\n",
        "----------"
      ],
      "metadata": {
        "id": "s6XDCABTuWxh"
      }
    },
    {
      "cell_type": "markdown",
      "source": [
        "At this point, you should already have a good understanding of a CNN model. We will use thearchitecture you have configured from part one to train and evaluate on a real-world wafer dataset from TSMC [1]."
      ],
      "metadata": {
        "id": "gVMuGMLCh58G"
      }
    },
    {
      "cell_type": "markdown",
      "source": [
        "### Data Downloading"
      ],
      "metadata": {
        "id": "8wlvPPAev6qx"
      }
    },
    {
      "cell_type": "code",
      "source": [
        "# Data loading and visualizing are the same as part 1\n",
        "data_url_2 = 'https://ucsb.box.com/shared/static/f2x51xl9p1hvh9sqwww752ayr6hghdub.pkl' # url\n",
        "save_path_2 = './hw1/dataset_two.pkl' \n",
        "\n",
        "dataset_2 = download(save_path_2, data_url_2)\n",
        "df2 = pd.read_pickle(save_path_2)\n",
        "logger.debug(df2.info())"
      ],
      "metadata": {
        "id": "cYf_VhqGo3yu",
        "colab": {
          "base_uri": "https://localhost:8080/"
        },
        "outputId": "edd68c79-8e51-476c-8a49-6db99aadd90c"
      },
      "execution_count": null,
      "outputs": [
        {
          "output_type": "stream",
          "name": "stderr",
          "text": [
            "INFO:__main__:File saved to ./hw1/dataset_two.pkl\n",
            "DEBUG:__main__:None\n"
          ]
        },
        {
          "output_type": "stream",
          "name": "stdout",
          "text": [
            "<class 'pandas.core.frame.DataFrame'>\n",
            "Int64Index: 904 entries, 0 to 23051\n",
            "Data columns (total 6 columns):\n",
            " #   Column       Non-Null Count  Dtype \n",
            "---  ------       --------------  ----- \n",
            " 0   lotName      904 non-null    object\n",
            " 1   waferNumber  904 non-null    int64 \n",
            " 2   tsmcIndex    904 non-null    int64 \n",
            " 3   dieCount     904 non-null    int64 \n",
            " 4   failureType  904 non-null    object\n",
            " 5   waferMap     904 non-null    object\n",
            "dtypes: int64(3), object(3)\n",
            "memory usage: 49.4+ KB\n"
          ]
        }
      ]
    },
    {
      "cell_type": "markdown",
      "source": [
        "Q.10: (2 pts) Download the second data set and visualize the failure types as you did in part one."
      ],
      "metadata": {
        "id": "I93_Ah2altON"
      }
    },
    {
      "cell_type": "code",
      "source": [
        "visualize_data_categories(df2)"
      ],
      "metadata": {
        "colab": {
          "base_uri": "https://localhost:8080/",
          "height": 1000
        },
        "id": "oa0n6xV73GtA",
        "outputId": "8d905c83-6c13-4ae7-dc34-6eacb6771c09"
      },
      "execution_count": null,
      "outputs": [
        {
          "output_type": "display_data",
          "data": {
            "image/png": "[encoded data removed]",
            "text/plain": [
              "<Figure size 432x288 with 1 Axes>"
            ]
          },
          "metadata": {
            "needs_background": "light"
          }
        },
        {
          "output_type": "display_data",
          "data": {
            "image/png": "[encoded data removed]",
            "text/plain": [
              "<Figure size 432x288 with 1 Axes>"
            ]
          },
          "metadata": {
            "needs_background": "light"
          }
        },
        {
          "output_type": "display_data",
          "data": {
            "image/png": "[encoded data removed]",
            "text/plain": [
              "<Figure size 432x288 with 1 Axes>"
            ]
          },
          "metadata": {
            "needs_background": "light"
          }
        },
        {
          "output_type": "display_data",
          "data": {
            "image/png": "[encoded data removed]",
            "text/plain": [
              "<Figure size 432x288 with 1 Axes>"
            ]
          },
          "metadata": {
            "needs_background": "light"
          }
        }
      ]
    },
    {
      "cell_type": "markdown",
      "source": [
        "### Prepare Data"
      ],
      "metadata": {
        "id": "UbSeoix7wAsQ"
      }
    },
    {
      "cell_type": "code",
      "source": [
        "# The function resizes the wafer to specified output shape\n",
        "def resize_wafer_data(wafer_data: np.ndarray, output_shape: tuple=(64, 64)) -> np.ndarray:\n",
        "    return resize(wafer_data, output_shape, preserve_range=True)\n",
        "\n",
        "# TODO: Similar to part one, write a function that (1) gets the wafer maps with their corresponding labels,\n",
        "#       (2) reshapes the wafer maps as a numpy array of shape [x, 64, 64, 1], \n",
        "#       (3) and converts the labels into numeric values \n",
        "def prepare_data_two(df: pd.DataFrame) -> Tuple[np.ndarray, list]:\n",
        "    # Resize_wafer_data function to resize the wafer map to a larger size\n",
        "    resized = df['waferMap'].apply(resize_wafer_data) # this takes about 30 sec\n",
        "    \n",
        "    np_waferMap = np.empty((df.shape[0], 64, 64))\n",
        "    for i in range(df.shape[0]):\n",
        "        np_waferMap[i] = resized.iloc[i]\n",
        "    np_waferMap = np_waferMap.reshape((df.shape[0], 64, 64, 1))\n",
        "\n",
        "    dictionary = {'Edge-Loc': 0,\n",
        "                  'Loc':1,\n",
        "                  'Scratch':2,\n",
        "                  'Center': 3}\n",
        "    np_failureType = df['failureType'].map(dictionary).to_numpy().reshape((df.shape[0], 1))\n",
        "    np_failureType = to_categorical(np_failureType, num_classes=4, dtype='int')\n",
        "\n",
        "    return np_waferMap, np_failureType"
      ],
      "metadata": {
        "id": "hbD8bMENl0dl"
      },
      "execution_count": null,
      "outputs": []
    },
    {
      "cell_type": "code",
      "source": [
        "X2, y2 = prepare_data_two(df2)\n",
        "\n",
        "# Split data into train and eval set with the give ratio\n",
        "split_ratio = 0.33\n",
        "X2_train, X2_valid, y2_train, y2_valid = train_test_split(X2, y2, test_size=split_ratio, random_state=RANDOM_SEED)\n",
        "logger.debug(f'X2_train: {X2_train.shape}, X2_valid: {X2_valid.shape}, y2_train: {y2_train.shape}, y2_valid: {y2_valid.shape}')"
      ],
      "metadata": {
        "id": "MCcyBw2umB9m",
        "colab": {
          "base_uri": "https://localhost:8080/"
        },
        "outputId": "051de439-e370-4303-8598-e67592fd0e99"
      },
      "execution_count": null,
      "outputs": [
        {
          "output_type": "stream",
          "name": "stderr",
          "text": [
            "DEBUG:__main__:X2_train: (605, 64, 64, 1), X2_valid: (299, 64, 64, 1), y2_train: (605, 4), y2_valid: (299, 4)\n"
          ]
        }
      ]
    },
    {
      "cell_type": "markdown",
      "source": [
        "### Model Training and Evaluation"
      ],
      "metadata": {
        "id": "CweNV2xDwHNC"
      }
    },
    {
      "cell_type": "code",
      "source": [
        "# The following is similar to part one\n",
        "# Create a model first\n",
        "model2 = create_model(n_categories=4)\n",
        "\n",
        "# Compile model using accuracy to measure model performance\n",
        "model2.compile(optimizer='adam', \n",
        "              loss=tf.keras.losses.CategoricalCrossentropy(from_logits=False),\n",
        "              metrics=['accuracy'])"
      ],
      "metadata": {
        "id": "x9YYXFoIwXYx"
      },
      "execution_count": null,
      "outputs": []
    },
    {
      "cell_type": "code",
      "source": [
        "# Callback function for early stopping and restore the model weights with best accuracy\n",
        "early_stop = EarlyStopping(monitor='val_accuracy', patience=10, restore_best_weights=True) # you might want to change the patience\n",
        "callbacks_list = [early_stop]\n",
        "\n",
        "# Training: fit our data with the NN model\n",
        "\n",
        "batch_size = 32\n",
        "total_epochs = 20 # you might want to increase this until you see the loss converges\n",
        "\n",
        "history = model2.fit(X2_train, y2_train, epochs=total_epochs, \n",
        "                    validation_data=(X2_valid, y2_valid),\n",
        "                    callbacks=callbacks_list,\n",
        "                    batch_size=batch_size,\n",
        "                    )"
      ],
      "metadata": {
        "id": "_-wUdSbyweZB",
        "colab": {
          "base_uri": "https://localhost:8080/"
        },
        "outputId": "3c7298e8-bf3a-4ec0-8614-d04a6289ffa3"
      },
      "execution_count": null,
      "outputs": [
        {
          "output_type": "stream",
          "name": "stdout",
          "text": [
            "Epoch 1/30\n",
            "\r 1/19 [>.............................] - ETA: 0s - loss: 5.9355 - accuracy: 0.0938"
          ]
        },
        {
          "output_type": "stream",
          "name": "stderr",
          "text": [
            "/usr/local/lib/python3.7/dist-packages/tensorflow/python/data/ops/dataset_ops.py:4527: UserWarning: Even though the `tf.config.experimental_run_functions_eagerly` option is set, this option does not apply to tf.data functions. To force eager execution of tf.data functions, please use `tf.data.experimental.enable_debug_mode()`.\n",
            "  \"Even though the `tf.config.experimental_run_functions_eagerly` \"\n"
          ]
        },
        {
          "output_type": "stream",
          "name": "stdout",
          "text": [
            "19/19 [==============================] - 1s 31ms/step - loss: 4.7474 - accuracy: 0.5636 - val_loss: 3.5106 - val_accuracy: 0.7157\n",
            "Epoch 2/30\n",
            "19/19 [==============================] - 1s 28ms/step - loss: 2.8154 - accuracy: 0.7388 - val_loss: 2.2011 - val_accuracy: 0.7559\n",
            "Epoch 3/30\n",
            "19/19 [==============================] - 1s 30ms/step - loss: 1.8007 - accuracy: 0.7917 - val_loss: 1.5185 - val_accuracy: 0.8328\n",
            "Epoch 4/30\n",
            "19/19 [==============================] - 1s 33ms/step - loss: 1.2275 - accuracy: 0.8430 - val_loss: 1.3741 - val_accuracy: 0.6990\n",
            "Epoch 5/30\n",
            "19/19 [==============================] - 1s 28ms/step - loss: 0.9269 - accuracy: 0.8678 - val_loss: 0.9617 - val_accuracy: 0.8227\n",
            "Epoch 6/30\n",
            "19/19 [==============================] - 1s 30ms/step - loss: 0.7003 - accuracy: 0.9190 - val_loss: 0.8912 - val_accuracy: 0.7926\n",
            "Epoch 7/30\n",
            "19/19 [==============================] - 1s 30ms/step - loss: 0.5707 - accuracy: 0.9240 - val_loss: 0.8674 - val_accuracy: 0.7860\n",
            "Epoch 8/30\n",
            "19/19 [==============================] - 1s 28ms/step - loss: 0.4725 - accuracy: 0.9537 - val_loss: 0.8113 - val_accuracy: 0.7860\n",
            "Epoch 9/30\n",
            "19/19 [==============================] - 1s 30ms/step - loss: 0.4022 - accuracy: 0.9736 - val_loss: 0.7660 - val_accuracy: 0.8027\n",
            "Epoch 10/30\n",
            "19/19 [==============================] - 1s 30ms/step - loss: 0.3468 - accuracy: 0.9851 - val_loss: 0.7436 - val_accuracy: 0.8161\n",
            "Epoch 11/30\n",
            "19/19 [==============================] - 1s 30ms/step - loss: 0.3306 - accuracy: 0.9868 - val_loss: 0.7363 - val_accuracy: 0.7960\n",
            "Epoch 12/30\n",
            "19/19 [==============================] - 1s 29ms/step - loss: 0.2999 - accuracy: 0.9934 - val_loss: 0.7620 - val_accuracy: 0.7993\n",
            "Epoch 13/30\n",
            "19/19 [==============================] - 1s 30ms/step - loss: 0.2769 - accuracy: 0.9950 - val_loss: 0.7462 - val_accuracy: 0.8094\n"
          ]
        }
      ]
    },
    {
      "cell_type": "code",
      "source": [
        "# (2 pts) TODO: Similar to part one, implement a function that takes our trained model to predict labels for the wafer maps\n",
        "def predict_labels_part_two(data_to_predict: np.ndarray, model: tf.keras.Model) -> list:\n",
        "    prediction = model.predict(data_to_predict)\n",
        "\n",
        "    return onehot2int(prediction)\n",
        "\n",
        "# TODO: Similar to part one, implement a function that computes the confusion matrix for the predicted result. \n",
        "#       You can also reuse the function from part one, if possible. \n",
        "def compute_confusion_matrix(pred_labels: np.ndarray, true_labels: np.ndarray) -> np.ndarray:\n",
        "    # Calculate the confusion matrix\n",
        "    return tf.math.confusion_matrix(true_labels, pred_labels)\n",
        "\n",
        "# TODO: Implement a function that calculates the prediction accuracy. \n",
        "#       You can also reuse the function from part one, if possible. \n",
        "def calculate_accuracy(pred_labels: np.ndarray, true_labels: np.ndarray) -> float:\n",
        "    if pred_labels.shape[0] != true_labels.shape[0]:\n",
        "        raise IndexError('Size of pred_labels does not match that of true_labels.')\n",
        "    \n",
        "    match = 0\n",
        "    total = pred_labels.shape[0]\n",
        "    for i in range(pred_labels.shape[0]):\n",
        "        if pred_labels[i] != true_labels[i]:\n",
        "            continue\n",
        "        match = match + 1\n",
        "    \n",
        "    return match / total"
      ],
      "metadata": {
        "id": "D3uq0fP0xKUu"
      },
      "execution_count": null,
      "outputs": []
    },
    {
      "cell_type": "code",
      "source": [
        "pred_y2_val = predict_labels_part_two(X2_valid, model2)\n",
        "\n",
        "cm = compute_confusion_matrix(pred_y2_val, onehot2int(y2_valid))\n",
        "logger.info(f'The confusion matrix is\\n {cm}.')\n",
        "\n",
        "acc = calculate_accuracy(pred_y2_val, onehot2int(y2_valid))\n",
        "logger.info(f'The validation accuracy is {acc}.')"
      ],
      "metadata": {
        "id": "BAc0odnZxQaQ",
        "colab": {
          "base_uri": "https://localhost:8080/"
        },
        "outputId": "9144b80c-db55-41e6-c1b5-0569e2e40a9e"
      },
      "execution_count": null,
      "outputs": [
        {
          "output_type": "stream",
          "name": "stderr",
          "text": [
            "/usr/local/lib/python3.7/dist-packages/tensorflow/python/data/ops/dataset_ops.py:4527: UserWarning: Even though the `tf.config.experimental_run_functions_eagerly` option is set, this option does not apply to tf.data functions. To force eager execution of tf.data functions, please use `tf.data.experimental.enable_debug_mode()`.\n",
            "  \"Even though the `tf.config.experimental_run_functions_eagerly` \"\n",
            "INFO:__main__:The confusion matrix is\n",
            " [[139   5   0   0]\n",
            " [ 18  82   6   4]\n",
            " [  2  11   3   0]\n",
            " [  3   1   0  25]].\n",
            "INFO:__main__:The validation accuracy is 0.8327759197324415.\n"
          ]
        }
      ]
    },
    {
      "cell_type": "markdown",
      "source": [
        "Q.11: (8 pts) Prepare data (2 pts), use the same model architecture as in part one to train and evaluate this TSMC data set (4 pts), and show the confusion matrix for the validation predictions (2 pts). Are the accuracy results the same across all the categories?\n",
        "\n",
        "> No. The category \"Edge-Loc\" has the best accuracy. This result is not surprsing since \"Edge-Loc\" has the largest proportion among all the failure types in the training data.\n",
        "\n"
      ],
      "metadata": {
        "id": "9NPSfIfSvAOQ"
      }
    },
    {
      "cell_type": "markdown",
      "source": [
        "Q.12: (4 pts) Were you able to get a good accuracy (> 95%) on this TSMC data set? If not, explain why the same model performed worse?\n",
        "\n",
        ">The training data provided does not have a balanced distribution of categories.Plus, we did not perform data augmentation for the categories with lower frequencies. It is expected to havea worse performance in comparison with that of the Part I.\n",
        "\n"
      ],
      "metadata": {
        "id": "RwNWRaU3varP"
      }
    },
    {
      "cell_type": "markdown",
      "source": [
        "Q.13: (272B only:  10 pts) Study the paper where the TSMC data set was first proposed [?]. Drawing inspirations from this paper, provide possible solutions to improve the classification accuracy of this data set. (Even better if you come up with your original ideas.)\n",
        "\n",
        "1.   Data augmentation: using augmentation not only increases the original dataset, but also allows having a more balanced category distribution to avoid the NN model being biased and overfitting.\n",
        "2.   Noise reduction: Wafer maps are accompanied with noise. However, applying noise reduction does not gurantee producing beneficial results only. While using noise reduction may extratct essential features (e.g., donut pattern), it may also destruct certain features (e.g., edge ring). The solution proposed by the paper is to perform with- and without noise reduction simultaneously. This method is proved to have the optimal performance.\n",
        "3.   Change the layer structure of NN: I chose L2 regularization for the dataset created by TA. However, this might not be the optimal case for the TSMC dataset. It will be ideal to specialize a new create_model function for it.\n",
        "4.   New training/testing data split: Allow the category distribution of both datasets to be similar. Then we can have a better idea of how well-rounded the trained NN model might be.\n",
        "\n",
        "\n"
      ],
      "metadata": {
        "id": "Sr3VkQNlzvhN"
      }
    }
  ]
}